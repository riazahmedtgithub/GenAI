{
 "cells": [
  {
   "cell_type": "markdown",
   "id": "1c2900ac",
   "metadata": {},
   "source": [
    "Created an account in Stability AI and got the API key.\n",
    "Added that in the OS environment variable. \n",
    "Listed out the available models, to choose one from."
   ]
  },
  {
   "cell_type": "code",
   "execution_count": 38,
   "id": "17512d30",
   "metadata": {},
   "outputs": [
    {
     "name": "stdout",
     "output_type": "stream",
     "text": [
      "Following are the list of available models \n",
      "\n",
      "\n",
      "[\n",
      "  {\n",
      "    \"description\": \"Stability-AI Stable Diffusion XL v1.0\",\n",
      "    \"id\": \"stable-diffusion-xl-1024-v1-0\",\n",
      "    \"name\": \"Stable Diffusion XL v1.0\",\n",
      "    \"type\": \"PICTURE\"\n",
      "  },\n",
      "  {\n",
      "    \"description\": \"Stability-AI Stable Diffusion v1.6\",\n",
      "    \"id\": \"stable-diffusion-v1-6\",\n",
      "    \"name\": \"Stable Diffusion v1.6\",\n",
      "    \"type\": \"PICTURE\"\n",
      "  }\n",
      "]\n"
     ]
    }
   ],
   "source": [
    "import os\n",
    "import requests\n",
    "import json\n",
    "api_key=os.getenv(\"STABILITY_API_KEY\")\n",
    "api_host = \"https://api.stability.ai\"\n",
    "url = f\"{api_host}/v1/engines/list\"\n",
    "response = requests.get(url, headers={\"Authorization\": f\"Bearer {api_key}\"})\n",
    "payload = response.json()\n",
    "\n",
    "payload = json.dumps(payload, indent=2)\n",
    "print (\"Following are the list of available models \\n\\n\")\n",
    "print(payload)"
   ]
  },
  {
   "cell_type": "markdown",
   "id": "ec089f33",
   "metadata": {},
   "source": [
    "I am using stable-diffusion-xl-1024-v1-0 engine ID.\n",
    "cfg_scale is set to 30 to make sure that the generated image is closer to the prompt.\n",
    "samples is set to one, so that only one image is getting generated.\n",
    "steps option is set to 49, so 49 diffusion steps are added making it a clearer image.  When I made this more than 50, it errored out.\n",
    "\n"
   ]
  },
  {
   "cell_type": "code",
   "execution_count": 41,
   "id": "fc42d088",
   "metadata": {},
   "outputs": [],
   "source": [
    "import base64\n",
    "import os\n",
    "import requests\n",
    "import datetime\n",
    "import re\n",
    "\n",
    "api_key = os.getenv(\"STABILITY_API_KEY\")\n",
    "prompt = \"Astronaut washing utensils in space\"\n",
    "# Set the folder to save the image; make sure it exists\n",
    "curdir = r\"C:\\Users\\Riaz\\Desktop\\MSDS\\Generative AI\\Week 4\"\n",
    "image_dir = os.path.join(curdir, 'images')\n",
    "engine_id = \"stable-diffusion-xl-1024-v1-0\"\n",
    "if not os.path.isdir(image_dir):\n",
    "    os.mkdir(image_dir)\n",
    "# Function to clean up filenames\n",
    "def valid_filename(s):\n",
    "    s = re.sub(r'[^\\w_.)( -]', '', s).strip()\n",
    "    return re.sub(r'[\\s]+', '_', s)\n",
    "response = requests.post(f\"{api_host}/v1/generation/{engine_id}/text-to-image\",headers={\"Content-Type\": \"application/json\",\n",
    "                                                                                        \"Accept\": \"application/json\",\"Authorization\": f\"Bearer {api_key}\"},json={\"text_prompts\": [{\"text\": f\"{prompt}\",}],\"cfg_scale\": 30,\"height\": 1024,\"width\": 1024,\"samples\": 1,\"steps\": 49,},)\n",
    "data = response.json()\n",
    "for i, image in enumerate(data[\"artifacts\"]):\n",
    "    filename = f\"sd_panda.png\"\n",
    "    image_path = os.path.join(image_dir, filename)\n",
    "    with open(image_path, \"wb\") as f:\n",
    "        f.write(base64.b64decode(image[\"base64\"]))"
   ]
  },
  {
   "cell_type": "code",
   "execution_count": null,
   "id": "72578d44",
   "metadata": {},
   "outputs": [],
   "source": []
  },
  {
   "cell_type": "markdown",
   "id": "5c5b4ae0",
   "metadata": {},
   "source": [
    "The original image which needs editing is being passed and the input prompt is suitably modified to edit the photo and produce the output.\n",
    "DDIM sampler is being tried out here to give faster results."
   ]
  },
  {
   "cell_type": "code",
   "execution_count": 43,
   "id": "15fb41db",
   "metadata": {},
   "outputs": [],
   "source": [
    "orginal_image=r'C:\\Users\\Riaz\\Desktop\\MSDS\\Generative AI\\Week 4\\images\\sd_panda.png'\n",
    "response = requests.post(f\"{api_host}/v1/generation/{engine_id}/image-to-image\",\n",
    "                         headers={\"Accept\": \"application/json\",\"Authorization\": f\"Bearer {api_key}\"},\n",
    "                         files={\"init_image\": open(orginal_image, \"rb\")},\n",
    "                         data={\"image_strength\": 0.35,\"init_image_mode\": \"IMAGE_STRENGTH\",\"text_prompts[0][text]\":\n",
    "                               \"without water\",\"cfg_scale\": 7,\"samples\": 1,\"steps\": 50,\"sampler\": \"DDIM\"})\n",
    "data = response.json()\n",
    "for i, image in enumerate(data[\"artifacts\"]):\n",
    "    filename = f\"{valid_filename(os.path.basename(orginal_image))}_img2img_{i}_{datetime.datetime.now().strftime('%Y%m%d_%H%M%S')}.png\"\n",
    "    image_path = os.path.join(image_dir, filename)\n",
    "with open(image_path, \"wb\") as f:\n",
    "    f.write(base64.b64decode(image[\"base64\"]))"
   ]
  },
  {
   "cell_type": "markdown",
   "id": "70428b98",
   "metadata": {},
   "source": [
    "Analysis:\n",
    "    \n",
    "    It is quite simple to use an Stable diffusion API and create the image.  It is also easy to edit the image, as long as we are uploading the right image and our desired prompting.\n",
    "    The image created for \"Astronaut washing utensils in space\" created a image closer to the prompt.\n",
    "    In the next prompt for editing it using the image-to-image API, \"without water\" prompt has been used.  This created an almost similar image, but few water drops missing on the utensils. Overall a good editing."
   ]
  }
 ],
 "metadata": {
  "kernelspec": {
   "display_name": "Python 3 (ipykernel)",
   "language": "python",
   "name": "python3"
  },
  "language_info": {
   "codemirror_mode": {
    "name": "ipython",
    "version": 3
   },
   "file_extension": ".py",
   "mimetype": "text/x-python",
   "name": "python",
   "nbconvert_exporter": "python",
   "pygments_lexer": "ipython3",
   "version": "3.11.5"
  }
 },
 "nbformat": 4,
 "nbformat_minor": 5
}
