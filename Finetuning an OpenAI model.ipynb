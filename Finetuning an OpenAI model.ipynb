{
 "cells": [
  {
   "cell_type": "markdown",
   "id": "5f8484cd-423a-4eac-a31c-5a148d3f1cad",
   "metadata": {},
   "source": [
    "Following is the code to do a basic check for the examples that we are passing\n",
    "It will be checking if it is able to open and read the file and will also give the length of role messages we have included.\n",
    "In the below code I am giving 11 examples, because if it is less than 10, the finetuning job returned an error saying that it needs to be atleast 10 examples."
   ]
  },
  {
   "cell_type": "code",
   "execution_count": 3,
   "id": "1586af8b-1222-4f6d-a79f-32037c82ba9b",
   "metadata": {},
   "outputs": [
    {
     "name": "stdout",
     "output_type": "stream",
     "text": [
      "Basic checks for file C:\\Users\\Riaz\\Desktop\\MSDS\\Generative AI\\Week 7\\data_file:\n",
      "Count of examples in training dataset: 11\n",
      "First example:\n",
      "{'role': 'system', 'content': \"You're a chatbot that only responds with emojis!\"}\n",
      "{'role': 'user', 'content': 'I heard the koala habitat was destroyed by the fire.'}\n",
      "{'role': 'assistant', 'content': '(sadkoala)'}\n"
     ]
    },
    {
     "data": {
      "text/plain": [
       "True"
      ]
     },
     "execution_count": 3,
     "metadata": {},
     "output_type": "execute_result"
    }
   ],
   "source": [
    "import json\n",
    "def basic_checks(data_file):\n",
    "    try:\n",
    "        with open(data_file, 'r', encoding='utf-8') as f:\n",
    "            dataset = [json.loads(line) for line in f]\n",
    "        print(f\"Basic checks for file {data_file}:\")\n",
    "        print(\"Count of examples in training dataset:\", len(dataset))\n",
    "        print(\"First example:\")\n",
    "        for message in dataset[0][\"messages\"]:\n",
    "            print(message)\n",
    "        return True\n",
    "    except Exception as e:\n",
    "        print(f\"An error occurred in file {data_file}: {e}\")\n",
    "        return False\n",
    "\n",
    "basic_checks(f'C:\\\\Users\\\\Riaz\\\\Desktop\\\\MSDS\\\\Generative AI\\\\Week 7\\\\data_file')"
   ]
  },
  {
   "cell_type": "code",
   "execution_count": 5,
   "id": "6e142fc7-d17d-466c-9c09-54b3e0a597cd",
   "metadata": {},
   "outputs": [],
   "source": [
    "import os\n",
    "import requests\n",
    "import json\n",
    "import openai\n",
    "#import openai\n",
    "from openai import OpenAI\n",
    "openai.api_key =os.getenv(\"openai_api_key\")"
   ]
  },
  {
   "cell_type": "markdown",
   "id": "0e138cec-0337-430f-9de9-f3ec4ab40069",
   "metadata": {},
   "source": [
    "The created file is being uploaded using the files API, this is required for the fine tuning job to pick the training file."
   ]
  },
  {
   "cell_type": "code",
   "execution_count": 7,
   "id": "b54d0410-3091-4fd6-9f3a-3bacece45445",
   "metadata": {},
   "outputs": [
    {
     "name": "stdout",
     "output_type": "stream",
     "text": [
      "The information of uploaded files\n",
      " SyncCursorPage[FileObject](data=[FileObject(id='file-FNdXMDgfG35syu5VTKvcft', bytes=2242, created_at=1737861110, filename='data_file', object='file', purpose='fine-tune', status='processed', status_details=None), FileObject(id='file-RffFCTQefajKoKMd7AaesC', bytes=2644, created_at=1737749530, filename='step_metrics.csv', object='file', purpose='fine-tune-results', status='processed', status_details=None), FileObject(id='file-GEJRrXbqseFqXxdUn6cF4Z', bytes=2242, created_at=1737749017, filename='data_file', object='file', purpose='fine-tune', status='processed', status_details=None), FileObject(id='file-J2jAiXJTExmrqfMVQ8fYeg', bytes=666, created_at=1737747122, filename='data_file', object='file', purpose='fine-tune', status='processed', status_details=None), FileObject(id='file-MFathCpeBf1sismJMxooHv', bytes=666, created_at=1737747089, filename='data_file', object='file', purpose='fine-tune', status='processed', status_details=None), FileObject(id='file-7vXLJiQf1Kb9A8MA8ZUs3U', bytes=666, created_at=1737746964, filename='data_file', object='file', purpose='fine-tune', status='processed', status_details=None), FileObject(id='file-TWuGDoyqcRCx9bQGe1gd3e', bytes=666, created_at=1737746944, filename='data_file', object='file', purpose='fine-tune', status='processed', status_details=None), FileObject(id='file-Qs2dWA63SNdCW7VrgK4FuV', bytes=666, created_at=1737746921, filename='data_file', object='file', purpose='fine-tune', status='processed', status_details=None), FileObject(id='file-7FBQoxRYhhHruJxfex9FBb', bytes=666, created_at=1737746902, filename='data_file', object='file', purpose='fine-tune', status='processed', status_details=None)], object='list', has_more=False, first_id='file-FNdXMDgfG35syu5VTKvcft', last_id='file-7FBQoxRYhhHruJxfex9FBb')\n"
     ]
    }
   ],
   "source": [
    "from openai import OpenAI\n",
    "client = OpenAI()\n",
    "\n",
    "client.files.create(\n",
    "  file=open(\"C:\\\\Users\\\\Riaz\\\\Desktop\\\\MSDS\\\\Generative AI\\\\Week 7\\\\data_file\", \"rb\"),\n",
    "  purpose=\"fine-tune\"\n",
    ")\n",
    "\n",
    "print (\"The information of uploaded files\\n\",client.files.list())\n"
   ]
  },
  {
   "cell_type": "markdown",
   "id": "bd920bea-7cce-45c3-98b8-da6073b81f5d",
   "metadata": {},
   "source": [
    "Fine tuning job needs to be created with the parameter of file id and this is retrieved from the above files.list api.\n",
    "The below command creates a finetuning job and the model gpt-4o-mini-2024-07-18 has been specified.  \n",
    "The list of fine tunable models can be retrieved from https://platform.openai.com/docs/guides/fine-tuning"
   ]
  },
  {
   "cell_type": "code",
   "execution_count": 9,
   "id": "5758a77b-16a2-4231-b7a2-9b97210fc45e",
   "metadata": {},
   "outputs": [
    {
     "data": {
      "text/plain": [
       "FineTuningJob(id='ftjob-LW7hiUMdjJBeaNKD8Ce9fBnx', created_at=1737861136, error=Error(code=None, message=None, param=None), fine_tuned_model=None, finished_at=None, hyperparameters=Hyperparameters(batch_size='auto', learning_rate_multiplier='auto', n_epochs='auto'), model='gpt-4o-mini-2024-07-18', object='fine_tuning.job', organization_id='org-CICsZaJ3gjcM8Nb7O39cmoMG', result_files=[], seed=1271288324, status='validating_files', trained_tokens=None, training_file='file-FNdXMDgfG35syu5VTKvcft', validation_file=None, estimated_finish=None, integrations=[], method=Method(dpo=None, supervised=MethodSupervised(hyperparameters=MethodSupervisedHyperparameters(batch_size='auto', learning_rate_multiplier='auto', n_epochs='auto')), type='supervised'), user_provided_suffix=None)"
      ]
     },
     "execution_count": 9,
     "metadata": {},
     "output_type": "execute_result"
    }
   ],
   "source": [
    "from openai import OpenAI\n",
    "client = OpenAI()\n",
    "\n",
    "client.fine_tuning.jobs.create(training_file=\"file-FNdXMDgfG35syu5VTKvcft\",model=\"gpt-4o-mini-2024-07-18\")"
   ]
  },
  {
   "cell_type": "markdown",
   "id": "e30c0ff5-e78b-48b9-8353-6874f6a12c20",
   "metadata": {},
   "source": [
    "Following is the command to get the list of running jobs and to retrieve the job details.\n",
    "This is required, as it will give the fine tuned model.\n",
    "While we use the chat completions API to query the LLM, this fine tuned model needs to be specified.\n",
    "As we have not given the hyperparameters, it choses itself the optimimum values and displays the hyperparameters used like number of epochs, whether it is supervised or not and batch size."
   ]
  },
  {
   "cell_type": "code",
   "execution_count": 25,
   "id": "86ab532c-f41f-4796-b142-dadda1643525",
   "metadata": {},
   "outputs": [
    {
     "data": {
      "text/plain": [
       "FineTuningJob(id='ftjob-LW7hiUMdjJBeaNKD8Ce9fBnx', created_at=1737861136, error=Error(code=None, message=None, param=None), fine_tuned_model='ft:gpt-4o-mini-2024-07-18:personal::AtnTcSYz', finished_at=1737861590, hyperparameters=Hyperparameters(batch_size=1, learning_rate_multiplier=1.8, n_epochs=9), model='gpt-4o-mini-2024-07-18', object='fine_tuning.job', organization_id='org-CICsZaJ3gjcM8Nb7O39cmoMG', result_files=['file-Ey9L51DRxJAKnRm7AWMut5'], seed=1271288324, status='succeeded', trained_tokens=3141, training_file='file-FNdXMDgfG35syu5VTKvcft', validation_file=None, estimated_finish=None, integrations=[], method=Method(dpo=None, supervised=MethodSupervised(hyperparameters=MethodSupervisedHyperparameters(batch_size=1, learning_rate_multiplier=1.8, n_epochs=9)), type='supervised'), user_provided_suffix=None)"
      ]
     },
     "execution_count": 25,
     "metadata": {},
     "output_type": "execute_result"
    }
   ],
   "source": [
    "client.fine_tuning.jobs.list(limit=10)\n",
    "client.fine_tuning.jobs.retrieve('ftjob-LW7hiUMdjJBeaNKD8Ce9fBnx')"
   ]
  },
  {
   "cell_type": "markdown",
   "id": "da3b57d3-be95-4ac8-9b13-5eebbd32ffb8",
   "metadata": {},
   "source": [
    "Alternatively, the running job information can also be retrieved using the Requests library of python"
   ]
  },
  {
   "cell_type": "code",
   "execution_count": 27,
   "id": "630ed55f-d066-401d-a33f-8e71dfcafa0d",
   "metadata": {},
   "outputs": [
    {
     "name": "stdout",
     "output_type": "stream",
     "text": [
      "Fine-tune status: succeeded\n",
      "Details: {'object': 'fine_tuning.job', 'id': 'ftjob-LW7hiUMdjJBeaNKD8Ce9fBnx', 'model': 'gpt-4o-mini-2024-07-18', 'created_at': 1737861136, 'finished_at': 1737861590, 'fine_tuned_model': 'ft:gpt-4o-mini-2024-07-18:personal::AtnTcSYz', 'organization_id': 'org-CICsZaJ3gjcM8Nb7O39cmoMG', 'result_files': ['file-Ey9L51DRxJAKnRm7AWMut5'], 'status': 'succeeded', 'validation_file': None, 'training_file': 'file-FNdXMDgfG35syu5VTKvcft', 'hyperparameters': {'n_epochs': 9, 'batch_size': 1, 'learning_rate_multiplier': 1.8}, 'trained_tokens': 3141, 'error': {}, 'user_provided_suffix': None, 'seed': 1271288324, 'estimated_finish': None, 'integrations': [], 'method': {'type': 'supervised', 'supervised': {'hyperparameters': {'n_epochs': 9, 'batch_size': 1, 'learning_rate_multiplier': 1.8}}}}\n"
     ]
    }
   ],
   "source": [
    "import requests\n",
    "\n",
    "# Your OpenAI API key\n",
    "api_key = os.getenv(\"openai_api_key\")\n",
    "\n",
    "# The fine-tune ID you want to check\n",
    "fine_tune_id = \"ftjob-LW7hiUMdjJBeaNKD8Ce9fBnx\"\n",
    "\n",
    "# Endpoint for checking the fine-tuning status\n",
    "url = f\"https://api.openai.com/v1/fine_tuning/jobs/{fine_tune_id}\"\n",
    "\n",
    "# Set up headers with your API key\n",
    "headers = {\n",
    "    \"Authorization\": f\"Bearer {api_key}\",\n",
    "    \"Content-Type\": \"application/json\"\n",
    "}\n",
    "\n",
    "# Make a GET request to the endpoint\n",
    "response = requests.get(url, headers=headers)\n",
    "\n",
    "# Check the response\n",
    "if response.status_code == 200:\n",
    "    # Parse and display the status information\n",
    "    fine_tune_data = response.json()\n",
    "    print(\"Fine-tune status:\", fine_tune_data[\"status\"])\n",
    "    print(\"Details:\", fine_tune_data)\n",
    "else:\n",
    "    print(f\"Failed to fetch fine-tune status. Error: {response.status_code}\")\n",
    "    print(\"Response:\", response.text)\n"
   ]
  },
  {
   "cell_type": "markdown",
   "id": "f27216a7-c3d0-4d75-90d9-b543eb1e1f44",
   "metadata": {},
   "source": [
    "The fine tuned model is being taken from the above output and used in the chat completions API to query.\n",
    "It is seen that the output is showing as expected within brackets with no pictorial emoji displayed."
   ]
  },
  {
   "cell_type": "code",
   "execution_count": 29,
   "id": "cce6e7f3-bd74-49b7-b98a-880c9620ce6d",
   "metadata": {},
   "outputs": [
    {
     "name": "stdout",
     "output_type": "stream",
     "text": [
      "(surprised)\n"
     ]
    }
   ],
   "source": [
    "completion = client.chat.completions.create(\n",
    "  model=\"ft:gpt-4o-mini-2024-07-18:personal::AtnTcSYz\",\n",
    "  messages=[\n",
    "    {\"role\": \"system\", \"content\": \"You're a chatbot that only responds with emojis!\"},\n",
    "    {\"role\": \"user\", \"content\": \"What the hell is going on?\"}\n",
    "  ],\n",
    "  max_tokens=50\n",
    ")\n",
    "print(completion.choices[0].message.content)"
   ]
  },
  {
   "cell_type": "markdown",
   "id": "64f53337-9051-43f3-b2ff-a76c36d50577",
   "metadata": {},
   "source": [
    "Comparing the above output, by passing the same information to an generic untrained model returns pictorial emojis"
   ]
  },
  {
   "cell_type": "code",
   "execution_count": 107,
   "id": "8ec3904b-7a35-4fc7-8d1f-f35821d004c1",
   "metadata": {},
   "outputs": [
    {
     "name": "stdout",
     "output_type": "stream",
     "text": [
      "😮🤔🔍\n"
     ]
    }
   ],
   "source": [
    "completion = client.chat.completions.create(\n",
    "  model=\"gpt-4o-mini\",\n",
    "  messages=[\n",
    "    {\"role\": \"system\", \"content\": \"You're a chatbot that only responds with emojis!\"},\n",
    "    {\"role\": \"user\", \"content\": \"What the hell is going on?\"}\n",
    "  ],\n",
    "  max_tokens=50\n",
    ")\n",
    "print(completion.choices[0].message.content)"
   ]
  }
 ],
 "metadata": {
  "kernelspec": {
   "display_name": "Python [conda env:base] *",
   "language": "python",
   "name": "conda-base-py"
  },
  "language_info": {
   "codemirror_mode": {
    "name": "ipython",
    "version": 3
   },
   "file_extension": ".py",
   "mimetype": "text/x-python",
   "name": "python",
   "nbconvert_exporter": "python",
   "pygments_lexer": "ipython3",
   "version": "3.12.7"
  }
 },
 "nbformat": 4,
 "nbformat_minor": 5
}
