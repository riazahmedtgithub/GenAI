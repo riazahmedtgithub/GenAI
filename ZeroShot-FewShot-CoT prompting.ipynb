{
 "cells": [
  {
   "cell_type": "code",
   "execution_count": 2,
   "id": "7a0cae60",
   "metadata": {},
   "outputs": [
    {
     "name": "stdout",
     "output_type": "stream",
     "text": [
      "Requirement already satisfied: openai in c:\\users\\riaz\\anaconda3\\lib\\site-packages (1.59.5)\n",
      "Requirement already satisfied: anyio<5,>=3.5.0 in c:\\users\\riaz\\anaconda3\\lib\\site-packages (from openai) (3.5.0)\n",
      "Requirement already satisfied: distro<2,>=1.7.0 in c:\\users\\riaz\\anaconda3\\lib\\site-packages (from openai) (1.9.0)\n",
      "Requirement already satisfied: httpx<1,>=0.23.0 in c:\\users\\riaz\\anaconda3\\lib\\site-packages (from openai) (0.28.1)\n",
      "Requirement already satisfied: jiter<1,>=0.4.0 in c:\\users\\riaz\\anaconda3\\lib\\site-packages (from openai) (0.8.2)\n",
      "Requirement already satisfied: pydantic<3,>=1.9.0 in c:\\users\\riaz\\anaconda3\\lib\\site-packages (from openai) (1.10.8)\n",
      "Requirement already satisfied: sniffio in c:\\users\\riaz\\anaconda3\\lib\\site-packages (from openai) (1.2.0)\n",
      "Requirement already satisfied: tqdm>4 in c:\\users\\riaz\\anaconda3\\lib\\site-packages (from openai) (4.65.0)\n",
      "Requirement already satisfied: typing-extensions<5,>=4.11 in c:\\users\\riaz\\anaconda3\\lib\\site-packages (from openai) (4.12.2)\n",
      "Requirement already satisfied: idna>=2.8 in c:\\users\\riaz\\anaconda3\\lib\\site-packages (from anyio<5,>=3.5.0->openai) (3.4)\n",
      "Requirement already satisfied: certifi in c:\\users\\riaz\\anaconda3\\lib\\site-packages (from httpx<1,>=0.23.0->openai) (2024.8.30)\n",
      "Requirement already satisfied: httpcore==1.* in c:\\users\\riaz\\anaconda3\\lib\\site-packages (from httpx<1,>=0.23.0->openai) (1.0.7)\n",
      "Requirement already satisfied: h11<0.15,>=0.13 in c:\\users\\riaz\\anaconda3\\lib\\site-packages (from httpcore==1.*->httpx<1,>=0.23.0->openai) (0.14.0)\n",
      "Requirement already satisfied: colorama in c:\\users\\riaz\\anaconda3\\lib\\site-packages (from tqdm>4->openai) (0.4.6)\n",
      "Note: you may need to restart the kernel to use updated packages.\n"
     ]
    }
   ],
   "source": [
    "%pip install openai"
   ]
  },
  {
   "cell_type": "markdown",
   "id": "69545f5a",
   "metadata": {},
   "source": [
    "# Problem 1: Math and Extraction with Zero and One-Shot Prompting"
   ]
  },
  {
   "cell_type": "markdown",
   "id": "093fa43d",
   "metadata": {},
   "source": [
    "The following is the zero shot prompting, where I have not provided any examples to the API.\n",
    "Loaded the openai key as environment variable and called it by using the os commands.\n",
    "Instantiated the OpenAPI client and defined the API key.\n",
    "In the zero shot promot, used two roles, system and user.\n",
    "In the system role, I defined the assistant asking to extract information from email and output it as JSON\n",
    "In the User role, I mentioned clearly the input that I would be giving, the format of output that I would be expecting and passed the variable where I have stored the email content.\n",
    "Temperature has been made 0 for deterministic output.  I do not want any hallucinations here.\n"
   ]
  },
  {
   "cell_type": "code",
   "execution_count": 25,
   "id": "6a776494",
   "metadata": {},
   "outputs": [
    {
     "name": "stdout",
     "output_type": "stream",
     "text": [
      "ChatCompletion(id='chatcmpl-Anoxfu0zx1iTAnvaueqWzZA76fV65', choices=[Choice(finish_reason='stop', index=0, logprobs=None, message=ChatCompletionMessage(content='```json\\n{\\n  \"email\": {\\n    \"sender\": \"Lance Gentry\",\\n    \"recipient\": \"Jim\",\\n    \"subject\": \"Order for new shoes\",\\n    \"body\": {\\n      \"order\": [\\n        {\\n          \"item\": \"Nike Air Jordan I\",\\n          \"quantity\": 2\\n        },\\n        {\\n          \"item\": \"Converse All-Star\",\\n          \"quantity\": 10\\n        },\\n        {\\n          \"item\": \"New Balance 990\",\\n          \"quantity\": 1\\n        },\\n        {\\n          \"item\": \"Nike Zoom Fly 5 men\\'s red\",\\n          \"quantity\": 2\\n        }\\n      ],\\n      \"request\": \"Please provide sub-totals and grand total cost.\"\\n    },\\n    \"sender_contact\": {\\n      \"address\": \"123 Main St.\",\\n      \"city\": \"Chelsea\",\\n      \"state\": \"MI\",\\n      \"zip\": \"48109\",\\n      \"phone\": \"248-229-2229\"\\n    },\\n    \"closing\": \"Thanks.\"\\n  }\\n}\\n```', refusal=None, role='assistant', audio=None, function_call=None, tool_calls=None))], created=1736437331, model='gpt-4o-mini-2024-07-18', object='chat.completion', service_tier=None, system_fingerprint='fp_01aeff40ea', usage=CompletionUsage(completion_tokens=216, prompt_tokens=143, total_tokens=359, completion_tokens_details=CompletionTokensDetails(accepted_prediction_tokens=0, audio_tokens=0, reasoning_tokens=0, rejected_prediction_tokens=0), prompt_tokens_details=PromptTokensDetails(audio_tokens=0, cached_tokens=0)))\n"
     ]
    }
   ],
   "source": [
    "import os\n",
    "import requests\n",
    "import json\n",
    "import openai\n",
    "#import openai\n",
    "from openai import OpenAI\n",
    "openai.api_key =os.getenv(\"openai_api_key\")\n",
    "client = OpenAI()\n",
    "# Define the email content\n",
    "email_content = \"\"\"\n",
    "Hey Jim,\n",
    "\n",
    "I'd like to order some new shoes. Please ship the following:\n",
    "\n",
    "1. Nike Air Jordan I - 2 pair\n",
    "2. Converse All-Star - 10 pair\n",
    "3. New Balance 990 - 1 pair\n",
    "4. Nike Zoom Fly 5 men's red - 2 pair\n",
    "\n",
    "Please provide sub-totals and grand total cost.\n",
    "\n",
    "Thanks.\n",
    "\n",
    "Lance Gentry\n",
    "123 Main St.\n",
    "Chelsea, MI 48109\n",
    "248-229-2229\n",
    "\"\"\"\n",
    "\n",
    "# Define the zero-shot prompt\n",
    "messages = [\n",
    "    {\"role\": \"system\", \"content\": \"You are a helpful assistant that extracts information from emails and outputs it as a JSON object.\"},\n",
    "    {\"role\": \"user\", \"content\": f\"Extract all the information from the following email and format it as a JSON object:\\n\\n{email_content}\"}\n",
    "]\n",
    "\n",
    "# Call the OpenAI API\n",
    "response = client.chat.completions.create(\n",
    "    model=\"gpt-4o-mini\",\n",
    "    messages=messages,\n",
    "    temperature=0,  \n",
    ")\n",
    "\n",
    "# Print the JSON result\n",
    "print(response)\n"
   ]
  },
  {
   "cell_type": "markdown",
   "id": "43b3f650",
   "metadata": {},
   "source": [
    "I have processed the response received and used the regex to clean out the initial ''' quotes and the word json to produce the desired json output."
   ]
  },
  {
   "cell_type": "code",
   "execution_count": 28,
   "id": "2e768595",
   "metadata": {},
   "outputs": [
    {
     "name": "stdout",
     "output_type": "stream",
     "text": [
      "{\n",
      "  \"email\": {\n",
      "    \"sender\": \"Lance Gentry\",\n",
      "    \"recipient\": \"Jim\",\n",
      "    \"subject\": \"Order for new shoes\",\n",
      "    \"body\": {\n",
      "      \"order\": [\n",
      "        {\n",
      "          \"item\": \"Nike Air Jordan I\",\n",
      "          \"quantity\": 2\n",
      "        },\n",
      "        {\n",
      "          \"item\": \"Converse All-Star\",\n",
      "          \"quantity\": 10\n",
      "        },\n",
      "        {\n",
      "          \"item\": \"New Balance 990\",\n",
      "          \"quantity\": 1\n",
      "        },\n",
      "        {\n",
      "          \"item\": \"Nike Zoom Fly 5 men's red\",\n",
      "          \"quantity\": 2\n",
      "        }\n",
      "      ],\n",
      "      \"request\": \"Please provide sub-totals and grand total cost.\"\n",
      "    },\n",
      "    \"sender_contact\": {\n",
      "      \"address\": \"123 Main St.\",\n",
      "      \"city\": \"Chelsea\",\n",
      "      \"state\": \"MI\",\n",
      "      \"zip\": \"48109\",\n",
      "      \"phone\": \"248-229-2229\"\n",
      "    },\n",
      "    \"closing\": \"Thanks.\"\n",
      "  }\n",
      "}\n"
     ]
    }
   ],
   "source": [
    "#print(response.choices[0].message.content)\n",
    "import re\n",
    "response_content = response.choices[0].message.content  \n",
    "cleaned_json = response_content.strip(\"```\").lstrip(\"json\").strip()\n",
    "print(cleaned_json)\n",
    "\n"
   ]
  },
  {
   "cell_type": "markdown",
   "id": "b2553cd0",
   "metadata": {},
   "source": [
    "For the next prompt, I am giving more clear instructions like the following one to get the outputs in the desired labels.  The name of the labels are different from the one it generated previously.\n",
    "\n",
    "\"Extract all the information from the following email and format it as a JSON object and in addition it should have the following fields shoe_agent_name (this is Jim), request_type shoe_brand, shoe_model, shoe_quantity,customer_name,customer_street,customer_city,customer_state,customer_zip,customer_phone\""
   ]
  },
  {
   "cell_type": "code",
   "execution_count": 32,
   "id": "fab47462",
   "metadata": {},
   "outputs": [
    {
     "name": "stdout",
     "output_type": "stream",
     "text": [
      "ChatCompletion(id='chatcmpl-AnpHECcTh5UdvDv6T5XUCLJuRDjzH', choices=[Choice(finish_reason='stop', index=0, logprobs=None, message=ChatCompletionMessage(content='```json\\n{\\n  \"shoe_agent_name\": \"Jim\",\\n  \"request_type\": \"order\",\\n  \"shoes\": [\\n    {\\n      \"shoe_brand\": \"Nike\",\\n      \"shoe_model\": \"Air Jordan I\",\\n      \"shoe_quantity\": 2\\n    },\\n    {\\n      \"shoe_brand\": \"Converse\",\\n      \"shoe_model\": \"All-Star\",\\n      \"shoe_quantity\": 10\\n    },\\n    {\\n      \"shoe_brand\": \"New Balance\",\\n      \"shoe_model\": \"990\",\\n      \"shoe_quantity\": 1\\n    },\\n    {\\n      \"shoe_brand\": \"Nike\",\\n      \"shoe_model\": \"Zoom Fly 5 men\\'s red\",\\n      \"shoe_quantity\": 2\\n    }\\n  ],\\n  \"customer_name\": \"Lance Gentry\",\\n  \"customer_street\": \"123 Main St.\",\\n  \"customer_city\": \"Chelsea\",\\n  \"customer_state\": \"MI\",\\n  \"customer_zip\": \"48109\",\\n  \"customer_phone\": \"248-229-2229\"\\n}\\n```', refusal=None, role='assistant', audio=None, function_call=None, tool_calls=None))], created=1736438544, model='gpt-4o-mini-2024-07-18', object='chat.completion', service_tier=None, system_fingerprint='fp_f2cd28694a', usage=CompletionUsage(completion_tokens=214, prompt_tokens=190, total_tokens=404, completion_tokens_details=CompletionTokensDetails(accepted_prediction_tokens=0, audio_tokens=0, reasoning_tokens=0, rejected_prediction_tokens=0), prompt_tokens_details=PromptTokensDetails(audio_tokens=0, cached_tokens=0)))\n"
     ]
    }
   ],
   "source": [
    "import os\n",
    "import requests\n",
    "import json\n",
    "import openai\n",
    "#import openai\n",
    "from openai import OpenAI\n",
    "openai.api_key =os.getenv(\"openai_api_key\")\n",
    "client = OpenAI()\n",
    "# Define the email content\n",
    "email_content = \"\"\"\n",
    "Hey Jim,\n",
    "\n",
    "I'd like to order some new shoes. Please ship the following:\n",
    "\n",
    "1. Nike Air Jordan I - 2 pair\n",
    "2. Converse All-Star - 10 pair\n",
    "3. New Balance 990 - 1 pair\n",
    "4. Nike Zoom Fly 5 men's red - 2 pair\n",
    "\n",
    "Please provide sub-totals and grand total cost.\n",
    "\n",
    "Thanks.\n",
    "\n",
    "Lance Gentry\n",
    "123 Main St.\n",
    "Chelsea, MI 48109\n",
    "248-229-2229\n",
    "\"\"\"\n",
    "\n",
    "# Define the zero-shot prompt\n",
    "messages = [\n",
    "    {\"role\": \"system\", \"content\": \"You are a helpful assistant that extracts information from emails and outputs it as a JSON object.\"},\n",
    "    {\"role\": \"user\", \"content\": f\"Extract all the information from the following email and format it as a JSON object and in addition it should have the following fields shoe_agent_name (this is Jim), request_type shoe_brand, shoe_model, shoe_quantity,customer_name,customer_street,customer_city,customer_state,customer_zip,customer_phone :\\n\\n{email_content}\"}\n",
    "]\n",
    "\n",
    "# Call the OpenAI API\n",
    "response1 = client.chat.completions.create(\n",
    "    model=\"gpt-4o-mini\",\n",
    "    messages=messages,\n",
    "    temperature=0,  \n",
    ")\n",
    "\n",
    "# Print the JSON result\n",
    "print(response1)\n"
   ]
  },
  {
   "cell_type": "code",
   "execution_count": 34,
   "id": "c2b7c382",
   "metadata": {},
   "outputs": [
    {
     "name": "stdout",
     "output_type": "stream",
     "text": [
      "{\n",
      "  \"shoe_agent_name\": \"Jim\",\n",
      "  \"request_type\": \"order\",\n",
      "  \"shoes\": [\n",
      "    {\n",
      "      \"shoe_brand\": \"Nike\",\n",
      "      \"shoe_model\": \"Air Jordan I\",\n",
      "      \"shoe_quantity\": 2\n",
      "    },\n",
      "    {\n",
      "      \"shoe_brand\": \"Converse\",\n",
      "      \"shoe_model\": \"All-Star\",\n",
      "      \"shoe_quantity\": 10\n",
      "    },\n",
      "    {\n",
      "      \"shoe_brand\": \"New Balance\",\n",
      "      \"shoe_model\": \"990\",\n",
      "      \"shoe_quantity\": 1\n",
      "    },\n",
      "    {\n",
      "      \"shoe_brand\": \"Nike\",\n",
      "      \"shoe_model\": \"Zoom Fly 5 men's red\",\n",
      "      \"shoe_quantity\": 2\n",
      "    }\n",
      "  ],\n",
      "  \"customer_name\": \"Lance Gentry\",\n",
      "  \"customer_street\": \"123 Main St.\",\n",
      "  \"customer_city\": \"Chelsea\",\n",
      "  \"customer_state\": \"MI\",\n",
      "  \"customer_zip\": \"48109\",\n",
      "  \"customer_phone\": \"248-229-2229\"\n",
      "}\n"
     ]
    }
   ],
   "source": [
    "import re\n",
    "response1_content = response1.choices[0].message.content  \n",
    "cleaned1_json = response1_content.strip(\"```\").lstrip(\"json\").strip()\n",
    "print(cleaned1_json)\n"
   ]
  },
  {
   "cell_type": "markdown",
   "id": "4884a329",
   "metadata": {},
   "source": [
    "For the next prompt, I am giving I am adding the instructions which says the cost of each pair of shoes for different brands and also asking AI to give me the breakdown of the cost and the final grand total cost.\n",
    "\n",
    "Extract all the information from the following email and format it as a JSON object and in addition it should have the following fields shoe_agent_name (this is Jim), request_type shoe_brand, shoe_model, shoe_quantity,customer_name,customer_street,customer_city,customer_state,customer_zip,customer_phone.  In addition to this also calculate the shoe subtotal and grandtotal cost.  The cost of one pair of Air Jordan I is $100, All-Star is $200, 990 is $300 and Zoom Fly 5 men's red is $400"
   ]
  },
  {
   "cell_type": "code",
   "execution_count": 46,
   "id": "6a5224a0",
   "metadata": {},
   "outputs": [
    {
     "name": "stdout",
     "output_type": "stream",
     "text": [
      "ChatCompletion(id='chatcmpl-Anr8Z6zH1NrMYuMkWdRe1H85I9WZX', choices=[Choice(finish_reason='stop', index=0, logprobs=None, message=ChatCompletionMessage(content='```json\\n{\\n  \"shoe_agent_name\": \"Jim\",\\n  \"request_type\": \"order\",\\n  \"shoe_brand\": [\\n    \"Nike\",\\n    \"Converse\",\\n    \"New Balance\",\\n    \"Nike\"\\n  ],\\n  \"shoe_model\": [\\n    \"Air Jordan I\",\\n    \"All-Star\",\\n    \"990\",\\n    \"Zoom Fly 5 men\\'s red\"\\n  ],\\n  \"shoe_quantity\": [\\n    2,\\n    10,\\n    1,\\n    2\\n  ],\\n  \"customer_name\": \"Lance Gentry\",\\n  \"customer_street\": \"123 Main St.\",\\n  \"customer_city\": \"Chelsea\",\\n  \"customer_state\": \"MI\",\\n  \"customer_zip\": \"48109\",\\n  \"customer_phone\": \"248-229-2229\",\\n  \"shoe_subtotal\": {\\n    \"Air Jordan I\": 200,\\n    \"All-Star\": 2000,\\n    \"990\": 300,\\n    \"Zoom Fly 5 men\\'s red\": 800\\n  },\\n  \"grand_total_cost\": 3300\\n}\\n```', refusal=None, role='assistant', audio=None, function_call=None, tool_calls=None))], created=1736445695, model='gpt-4o-mini-2024-07-18', object='chat.completion', service_tier=None, system_fingerprint='fp_f2cd28694a', usage=CompletionUsage(completion_tokens=222, prompt_tokens=240, total_tokens=462, completion_tokens_details=CompletionTokensDetails(accepted_prediction_tokens=0, audio_tokens=0, reasoning_tokens=0, rejected_prediction_tokens=0), prompt_tokens_details=PromptTokensDetails(audio_tokens=0, cached_tokens=0)))\n"
     ]
    }
   ],
   "source": [
    "import os\n",
    "import requests\n",
    "import json\n",
    "import openai\n",
    "#import openai\n",
    "from openai import OpenAI\n",
    "openai.api_key =os.getenv(\"openai_api_key\")\n",
    "client = OpenAI()\n",
    "# Define the email content\n",
    "email_content = \"\"\"\n",
    "Hey Jim,\n",
    "\n",
    "I'd like to order some new shoes. Please ship the following:\n",
    "\n",
    "1. Nike Air Jordan I - 2 pair\n",
    "2. Converse All-Star - 10 pair\n",
    "3. New Balance 990 - 1 pair\n",
    "4. Nike Zoom Fly 5 men's red - 2 pair\n",
    "\n",
    "Please provide sub-totals and grand total cost.\n",
    "\n",
    "Thanks.\n",
    "\n",
    "Lance Gentry\n",
    "123 Main St.\n",
    "Chelsea, MI 48109\n",
    "248-229-2229\n",
    "\"\"\"\n",
    "\n",
    "# Define the zero-shot prompt\n",
    "messages = [\n",
    "    {\"role\": \"system\", \"content\": \"You are a helpful assistant that extracts information from emails and outputs it as a JSON object.\"},\n",
    "    {\"role\": \"user\", \"content\": f\"Extract all the information from the following email and format it as a JSON object and in addition it should have the following fields shoe_agent_name (this is Jim), request_type shoe_brand, shoe_model, shoe_quantity,customer_name,customer_street,customer_city,customer_state,customer_zip,customer_phone.  In addition to this also calculate the shoe subtotal and grandtotal cost.  The cost of one pair of Air Jordan I is $100, All-Star is $200, 990 is $300 and Zoom Fly 5 men's red is $400:\\n\\n{email_content}\"}\n",
    "]\n",
    "\n",
    "# Call the OpenAI API\n",
    "response2 = client.chat.completions.create(\n",
    "    model=\"gpt-4o-mini\",\n",
    "    messages=messages,\n",
    "    temperature=0,  \n",
    ")\n",
    "\n",
    "# Print the JSON result\n",
    "print(response2)\n"
   ]
  },
  {
   "cell_type": "code",
   "execution_count": 47,
   "id": "0814f2a5",
   "metadata": {},
   "outputs": [
    {
     "name": "stdout",
     "output_type": "stream",
     "text": [
      "{\n",
      "  \"shoe_agent_name\": \"Jim\",\n",
      "  \"request_type\": \"order\",\n",
      "  \"shoe_brand\": [\n",
      "    \"Nike\",\n",
      "    \"Converse\",\n",
      "    \"New Balance\",\n",
      "    \"Nike\"\n",
      "  ],\n",
      "  \"shoe_model\": [\n",
      "    \"Air Jordan I\",\n",
      "    \"All-Star\",\n",
      "    \"990\",\n",
      "    \"Zoom Fly 5 men's red\"\n",
      "  ],\n",
      "  \"shoe_quantity\": [\n",
      "    2,\n",
      "    10,\n",
      "    1,\n",
      "    2\n",
      "  ],\n",
      "  \"customer_name\": \"Lance Gentry\",\n",
      "  \"customer_street\": \"123 Main St.\",\n",
      "  \"customer_city\": \"Chelsea\",\n",
      "  \"customer_state\": \"MI\",\n",
      "  \"customer_zip\": \"48109\",\n",
      "  \"customer_phone\": \"248-229-2229\",\n",
      "  \"shoe_subtotal\": {\n",
      "    \"Air Jordan I\": 200,\n",
      "    \"All-Star\": 2000,\n",
      "    \"990\": 300,\n",
      "    \"Zoom Fly 5 men's red\": 800\n",
      "  },\n",
      "  \"grand_total_cost\": 3300\n",
      "}\n"
     ]
    }
   ],
   "source": [
    "response2_content = response2.choices[0].message.content  \n",
    "cleaned2_json = response2_content.strip(\"```\").lstrip(\"json\").strip()\n",
    "print(cleaned2_json)"
   ]
  },
  {
   "cell_type": "markdown",
   "id": "36604d8d",
   "metadata": {},
   "source": [
    "Following is the one shot prompt, where I have given an example email and the output I am expecting, including the labels and method of calculation and the format it needs to display.  In particular, I am stressing AI to have the reordering of the ouput.\n",
    "Then the original email which needs to be converted is given and asked to produce the result."
   ]
  },
  {
   "cell_type": "code",
   "execution_count": 93,
   "id": "d1af1549",
   "metadata": {},
   "outputs": [
    {
     "name": "stdout",
     "output_type": "stream",
     "text": [
      "ChatCompletion(id='chatcmpl-AnrtxDTH5eCu1JnLpPS5UGZf99CMo', choices=[Choice(finish_reason='stop', index=0, logprobs=None, message=ChatCompletionMessage(content='```json\\n{\\n    \"shoe_agent_name\": \"Michelle\",\\n    \"request_type\": \"Order\",\\n    \"customer_name\": \"Artis Gilmore\",\\n    \"customer_street\": \"723 Lexington Blvd.\",\\n    \"customer_city\": \"New York\",\\n    \"customer_state\": \"NY\",\\n    \"customer_zip\": 10001,\\n    \"customer_phone\": \"(503) 484-1029\",\\n    \"items\": [\\n        {\\n            \"shoe_brand\": \"Nike\",\\n            \"shoe_model\": \"Air Jordan I\",\\n            \"shoe_quantity\": 1,\\n            \"shoe_price\": 100,\\n            \"shoe_subtotal\": 100\\n        },\\n        {\\n            \"shoe_brand\": \"Converse\",\\n            \"shoe_model\": \"All-Star\",\\n            \"shoe_quantity\": 20,\\n            \"shoe_price\": 30,\\n            \"shoe_subtotal\": 600\\n        },\\n        {\\n            \"shoe_brand\": \"New Balance\",\\n            \"shoe_model\": \"990\",\\n            \"shoe_quantity\": 2,\\n            \"shoe_price\": 110,\\n            \"shoe_subtotal\": 220\\n        },\\n        {\\n            \"shoe_brand\": \"Nike\",\\n            \"shoe_model\": \"Zoom Fly 5 men\\'s red\",\\n            \"shoe_quantity\": 5,\\n            \"shoe_price\": 400,\\n            \"shoe_subtotal\": 2000\\n        }\\n    ],\\n    \"grand_total\": 2920\\n}\\n```', refusal=None, role='assistant', audio=None, function_call=None, tool_calls=None))], created=1736448633, model='gpt-4o-mini-2024-07-18', object='chat.completion', service_tier=None, system_fingerprint='fp_f2cd28694a', usage=CompletionUsage(completion_tokens=293, prompt_tokens=528, total_tokens=821, completion_tokens_details=CompletionTokensDetails(accepted_prediction_tokens=0, audio_tokens=0, reasoning_tokens=0, rejected_prediction_tokens=0), prompt_tokens_details=PromptTokensDetails(audio_tokens=0, cached_tokens=0)))\n"
     ]
    }
   ],
   "source": [
    "import os\n",
    "import requests\n",
    "import json\n",
    "import openai\n",
    "#import openai\n",
    "from openai import OpenAI\n",
    "openai.api_key =os.getenv(\"openai_api_key\")\n",
    "client = OpenAI()\n",
    "# Define the email content\n",
    "email_content_ex = \"\"\"\n",
    "Hey Harry,\n",
    "\n",
    "I'd like to order some new shoes. Please ship the following:\n",
    "1. Nike Air Jordan I - 2 pair\n",
    "2. Converse All-Star - 20 pair\n",
    "3. New Balance 990 - 2 pair\n",
    "4. Nike Zoom Fly 5 men's red - 5 pair\n",
    "\n",
    "Please provide sub-totals and grand total cost.\n",
    "\n",
    "Thanks.\n",
    "Peter\n",
    "1 cat Blvd.\n",
    "Tampa, FL 75024\n",
    "(111) 484-1029\n",
    "\"\"\"\n",
    "email_content = \"\"\"\n",
    "Hey Michelle,\n",
    "\n",
    "I'd like to order some new shoes. Please ship the following:\n",
    "1. Nike Air Jordan I - 1 pair\n",
    "2. Converse All-Star - 20 pair\n",
    "3. New Balance 990 - 2 pair\n",
    "4. Nike Zoom Fly 5 men's red - 5 pair\n",
    "\n",
    "Please provide sub-totals and grand total cost.\n",
    "\n",
    "Thanks.\n",
    "Artis Gilmore\n",
    "723 Lexington Blvd.\n",
    "New York, NY 10001\n",
    "(503) 484-1029\n",
    "\"\"\"\n",
    "\n",
    "# Define the zero-shot prompt\n",
    "messages = [\n",
    "    {\"role\": \"system\", \"content\": \"You are a helpful assistant that extracts information from emails and outputs it as a JSON object.\"},\n",
    "    {\"role\": \"user\", \"content\": f\"Extract all the information from the following email {email_content_ex} and format it as a \\\n",
    "    JSON object .  Here is the output format I am expecting, \\\n",
    "     \\\n",
    "    'shoe_agent_name': 'Harry', \\\n",
    "    'request_type': 'Order', \\\n",
    "    'customer_name': 'Peter', \\\n",
    "    'customer_street': '1 cat Blvd.', \\\n",
    "    'customer_city': 'Tampa', \\\n",
    "    'customer_state': 'FL', \\\n",
    "    'customer_zip': 75024, \\\n",
    "    'customer_phone': '(111) 484-1029', \\\n",
    "    \\\n",
    "    'items': [ \\\n",
    "    'shoe_brand': 'Nike', \\\n",
    "    'shoe_model': 'Air Jordan I', \\\n",
    "    'shoe_quantity': 2, \\\n",
    "    'shoe_price': 100, \\\n",
    "    'shoe_subtotal': 200, \\\n",
    "    'shoe_brand': 'Converse', \\\n",
    "    'shoe_model': 'All-Star', \\\n",
    "    'shoe_quantity': 10, \\\n",
    "    'shoe_price': 30, \\\n",
    "    'shoe_subtotal': 300, \\\n",
    "    'shoe_brand': 'New Balance', \\\n",
    "    'shoe_model': '990', \\\n",
    "    'shoe_quantity': 2, \\\n",
    "    'shoe_price': 110, \\\n",
    "    'shoe_subtotal': 220, \\\n",
    "    'shoe_brand': 'Nike', \\\n",
    "    'shoe_model': 'Zoom Fly 5 mens red', \\\n",
    "    'shoe_quantity': 2, \\\n",
    "    'shoe_price': 400, \\\n",
    "    'shoe_subtotal': 800], \\\n",
    "    'grand_total': 1520 \\\n",
    "    \\n\\n Now, do the same thing for {email_content}\"}]\n",
    "\n",
    "\n",
    "# Call the OpenAI API\n",
    "response3 = client.chat.completions.create(\n",
    "    model=\"gpt-4o-mini\",\n",
    "    messages=messages,\n",
    "    temperature=0,  \n",
    ")\n",
    "\n",
    "# Print the JSON result\n",
    "print(response3)\n"
   ]
  },
  {
   "cell_type": "code",
   "execution_count": 95,
   "id": "2c5ef438",
   "metadata": {},
   "outputs": [
    {
     "name": "stdout",
     "output_type": "stream",
     "text": [
      "{\n",
      "    \"shoe_agent_name\": \"Michelle\",\n",
      "    \"request_type\": \"Order\",\n",
      "    \"customer_name\": \"Artis Gilmore\",\n",
      "    \"customer_street\": \"723 Lexington Blvd.\",\n",
      "    \"customer_city\": \"New York\",\n",
      "    \"customer_state\": \"NY\",\n",
      "    \"customer_zip\": 10001,\n",
      "    \"customer_phone\": \"(503) 484-1029\",\n",
      "    \"items\": [\n",
      "        {\n",
      "            \"shoe_brand\": \"Nike\",\n",
      "            \"shoe_model\": \"Air Jordan I\",\n",
      "            \"shoe_quantity\": 1,\n",
      "            \"shoe_price\": 100,\n",
      "            \"shoe_subtotal\": 100\n",
      "        },\n",
      "        {\n",
      "            \"shoe_brand\": \"Converse\",\n",
      "            \"shoe_model\": \"All-Star\",\n",
      "            \"shoe_quantity\": 20,\n",
      "            \"shoe_price\": 30,\n",
      "            \"shoe_subtotal\": 600\n",
      "        },\n",
      "        {\n",
      "            \"shoe_brand\": \"New Balance\",\n",
      "            \"shoe_model\": \"990\",\n",
      "            \"shoe_quantity\": 2,\n",
      "            \"shoe_price\": 110,\n",
      "            \"shoe_subtotal\": 220\n",
      "        },\n",
      "        {\n",
      "            \"shoe_brand\": \"Nike\",\n",
      "            \"shoe_model\": \"Zoom Fly 5 men's red\",\n",
      "            \"shoe_quantity\": 5,\n",
      "            \"shoe_price\": 400,\n",
      "            \"shoe_subtotal\": 2000\n",
      "        }\n",
      "    ],\n",
      "    \"grand_total\": 2920\n",
      "}\n"
     ]
    }
   ],
   "source": [
    "response3_content = response3.choices[0].message.content  \n",
    "cleaned3_json = response3_content.strip(\"```\").lstrip(\"json\").strip()\n",
    "print(cleaned3_json)"
   ]
  },
  {
   "cell_type": "markdown",
   "id": "ab6b2b92",
   "metadata": {},
   "source": [
    "# Problem 2: Chat Completion for Chain of Thought"
   ]
  },
  {
   "cell_type": "markdown",
   "id": "3fefbae0",
   "metadata": {},
   "source": [
    "In the below code, we are directing the OpenAI to breakdown the problem and think in the series of steps.  \n",
    "We have explicitly provided examples in the format of Q and A and finally our desired question being asked.\n",
    "For eg, for the example question \"Olivia has $23. She bought five bagels for $3 each. How much money does she have left?\".  Calculation has been done step by step, like the cost of each bagel multiplied by the number of bagels and subtracting it from the total money and then arriving at the answer.\n",
    "\n"
   ]
  },
  {
   "cell_type": "code",
   "execution_count": 102,
   "id": "3ae00afc",
   "metadata": {},
   "outputs": [
    {
     "name": "stdout",
     "output_type": "stream",
     "text": [
      "ChatCompletion(id='chatcmpl-AnuVQJXPBJIxPtkVUil31yN9HqiGH', choices=[Choice(finish_reason='stop', index=0, logprobs=None, message=ChatCompletionMessage(content='When you were 6, your sister was half your age, which means she was 3 years old (6 / 2 = 3). The age difference between you and your sister is 3 years. \\n\\nNow that you are 70, your sister is 70 - 3 = 67 years old. \\n\\nThe answer is 67.', refusal=None, role='assistant', audio=None, function_call=None, tool_calls=None))], created=1736458644, model='gpt-4o-mini-2024-07-18', object='chat.completion', service_tier=None, system_fingerprint='fp_01aeff40ea', usage=CompletionUsage(completion_tokens=73, prompt_tokens=293, total_tokens=366, completion_tokens_details=CompletionTokensDetails(accepted_prediction_tokens=0, audio_tokens=0, reasoning_tokens=0, rejected_prediction_tokens=0), prompt_tokens_details=PromptTokensDetails(audio_tokens=0, cached_tokens=0)))\n"
     ]
    }
   ],
   "source": [
    "import os\n",
    "import requests\n",
    "import json\n",
    "import openai\n",
    "#import openai\n",
    "from openai import OpenAI\n",
    "openai.api_key =os.getenv(\"openai_api_key\")\n",
    "client = OpenAI()\n",
    "# Define the email content\n",
    "content = \"\"\"\n",
    "Q: There were nine computers in the server room. Five more computers were installed each day, from Monday to Thursday. How many computers are now in the server room?\n",
    "A: There are 4 days from Monday to Thursday. 5 computers were added each day. That means in total 4 * 5 = 20 computers were added. There were 9 computers initially, so now there are 9 + 20 = 29 computers. The answer is 29.\n",
    "Q: Michael had 58 golf balls. On Tuesday, he lost 23 golf balls. On Wednesday, he lost 2 more. How many golf balls did he have at the end of Wednesday?\n",
    "A: Michael initially had 58 balls. He lost 23 on Tuesday, so after that he has 58 - 23 = 35 balls. On Wednesday he lost 2 more so now he has 35 - 2 = 33 balls. The answer is 33.\n",
    "Q: Olivia has $23. She bought five bagels for $3 each. How much money does she have left?\n",
    "A: She bought 5 bagels for $3 each. This means she spent $15. She has $8 left.\n",
    "Q: When I was 6 my sister was half my age. Now I'm 70 how old is my sister?\n",
    "\"\"\"\n",
    "\n",
    "# Define the zero-shot prompt\n",
    "messages = [\n",
    "    {\"role\": \"system\", \"content\": \"You are a helpful assistant\"},\n",
    "    {\"role\": \"user\", \"content\": f\"Learn and answer the question{content}\"}\n",
    "]\n",
    "\n",
    "# Call the OpenAI API\n",
    "response4 = client.chat.completions.create(\n",
    "    model=\"gpt-4o-mini\",\n",
    "    messages=messages,\n",
    "    temperature=0,  \n",
    ")\n",
    "\n",
    "# Print the JSON result\n",
    "print(response4)\n"
   ]
  },
  {
   "cell_type": "code",
   "execution_count": 103,
   "id": "49a26d66",
   "metadata": {},
   "outputs": [
    {
     "name": "stdout",
     "output_type": "stream",
     "text": [
      "When you were 6, your sister was half your age, which means she was 3 years old (6 / 2 = 3). The age difference between you and your sister is 3 years. \n",
      "\n",
      "Now that you are 70, your sister is 70 - 3 = 67 years old. \n",
      "\n",
      "The answer is 67.\n"
     ]
    }
   ],
   "source": [
    "response4_content = response4.choices[0].message.content  \n",
    "print(response4_content)"
   ]
  },
  {
   "cell_type": "markdown",
   "id": "f0efde26",
   "metadata": {},
   "source": [
    "However, what I do not understand is, how the OpenAI is giving correct answer, even if we do not pass the CoT.\n",
    "Specific message has been passed to forget the previous CoT as well, \"You are a helpful assistant, and forget the previous CoT\""
   ]
  },
  {
   "cell_type": "code",
   "execution_count": 104,
   "id": "4297ab4e",
   "metadata": {},
   "outputs": [
    {
     "name": "stdout",
     "output_type": "stream",
     "text": [
      "ChatCompletion(id='chatcmpl-AnuVZgBGJUFf6DzGtfQrDNZGgtJgK', choices=[Choice(finish_reason='stop', index=0, logprobs=None, message=ChatCompletionMessage(content='Your sister is 67 years old.', refusal=None, role='assistant', audio=None, function_call=None, tool_calls=None))], created=1736458653, model='gpt-4o-mini-2024-07-18', object='chat.completion', service_tier=None, system_fingerprint='fp_f2cd28694a', usage=CompletionUsage(completion_tokens=9, prompt_tokens=52, total_tokens=61, completion_tokens_details=CompletionTokensDetails(accepted_prediction_tokens=0, audio_tokens=0, reasoning_tokens=0, rejected_prediction_tokens=0), prompt_tokens_details=PromptTokensDetails(audio_tokens=0, cached_tokens=0)))\n"
     ]
    }
   ],
   "source": [
    "import os\n",
    "import requests\n",
    "import json\n",
    "import openai\n",
    "#import openai\n",
    "from openai import OpenAI\n",
    "openai.api_key =os.getenv(\"openai_api_key\")\n",
    "client = OpenAI()\n",
    "# Define the email content\n",
    "content = \"\"\"\n",
    "Q: When I was 6 my sister was half my age. Now I'm 70 how old is my sister?\n",
    "\"\"\"\n",
    "\n",
    "# Define the zero-shot prompt\n",
    "messages = [\n",
    "    {\"role\": \"system\", \"content\": \"You are a helpful assistant, and forget the previous CoT\"},\n",
    "    {\"role\": \"user\", \"content\": f\"Just answer the question{content}\"}\n",
    "]\n",
    "\n",
    "# Call the OpenAI API\n",
    "response5 = client.chat.completions.create(\n",
    "    model=\"gpt-4o-mini\",\n",
    "    messages=messages,\n",
    "    temperature=0,  \n",
    ")\n",
    "\n",
    "# Print the JSON result\n",
    "print(response5)\n"
   ]
  }
 ],
 "metadata": {
  "kernelspec": {
   "display_name": "Python 3 (ipykernel)",
   "language": "python",
   "name": "python3"
  },
  "language_info": {
   "codemirror_mode": {
    "name": "ipython",
    "version": 3
   },
   "file_extension": ".py",
   "mimetype": "text/x-python",
   "name": "python",
   "nbconvert_exporter": "python",
   "pygments_lexer": "ipython3",
   "version": "3.11.5"
  }
 },
 "nbformat": 4,
 "nbformat_minor": 5
}
